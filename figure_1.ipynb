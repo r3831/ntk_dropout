{
  "nbformat": 4,
  "nbformat_minor": 0,
  "metadata": {
    "kernelspec": {
      "display_name": "Python 3",
      "language": "python",
      "name": "python3"
    },
    "language_info": {
      "codemirror_mode": {
        "name": "ipython",
        "version": 3
      },
      "file_extension": ".py",
      "mimetype": "text/x-python",
      "name": "python",
      "nbconvert_exporter": "python",
      "pygments_lexer": "ipython3",
      "version": "3.7.6"
    },
    "colab": {
      "name": "figure_1.ipynb",
      "provenance": []
    },
    "accelerator": "GPU",
    "widgets": {
      "application/vnd.jupyter.widget-state+json": {
        "2dd684e92a714ffbb55dd46d9a541ce0": {
          "model_module": "@jupyter-widgets/controls",
          "model_name": "HBoxModel",
          "state": {
            "_view_name": "HBoxView",
            "_dom_classes": [],
            "_model_name": "HBoxModel",
            "_view_module": "@jupyter-widgets/controls",
            "_model_module_version": "1.5.0",
            "_view_count": null,
            "_view_module_version": "1.5.0",
            "box_style": "",
            "layout": "IPY_MODEL_e9f8eab4c7554e7986e6fe98f0868cab",
            "_model_module": "@jupyter-widgets/controls",
            "children": [
              "IPY_MODEL_309fb8147d574f81b51faf8a61c02ba4",
              "IPY_MODEL_838810f4642b4a0fbafdadcd14db13e5"
            ]
          }
        },
        "e9f8eab4c7554e7986e6fe98f0868cab": {
          "model_module": "@jupyter-widgets/base",
          "model_name": "LayoutModel",
          "state": {
            "_view_name": "LayoutView",
            "grid_template_rows": null,
            "right": null,
            "justify_content": null,
            "_view_module": "@jupyter-widgets/base",
            "overflow": null,
            "_model_module_version": "1.2.0",
            "_view_count": null,
            "flex_flow": null,
            "width": null,
            "min_width": null,
            "border": null,
            "align_items": null,
            "bottom": null,
            "_model_module": "@jupyter-widgets/base",
            "top": null,
            "grid_column": null,
            "overflow_y": null,
            "overflow_x": null,
            "grid_auto_flow": null,
            "grid_area": null,
            "grid_template_columns": null,
            "flex": null,
            "_model_name": "LayoutModel",
            "justify_items": null,
            "grid_row": null,
            "max_height": null,
            "align_content": null,
            "visibility": null,
            "align_self": null,
            "height": null,
            "min_height": null,
            "padding": null,
            "grid_auto_rows": null,
            "grid_gap": null,
            "max_width": null,
            "order": null,
            "_view_module_version": "1.2.0",
            "grid_template_areas": null,
            "object_position": null,
            "object_fit": null,
            "grid_auto_columns": null,
            "margin": null,
            "display": null,
            "left": null
          }
        },
        "309fb8147d574f81b51faf8a61c02ba4": {
          "model_module": "@jupyter-widgets/controls",
          "model_name": "FloatProgressModel",
          "state": {
            "_view_name": "ProgressView",
            "style": "IPY_MODEL_e60f9e932c7245cb84d825a5181e8a62",
            "_dom_classes": [],
            "description": "",
            "_model_name": "FloatProgressModel",
            "bar_style": "info",
            "max": 1,
            "_view_module": "@jupyter-widgets/controls",
            "_model_module_version": "1.5.0",
            "value": 1,
            "_view_count": null,
            "_view_module_version": "1.5.0",
            "orientation": "horizontal",
            "min": 0,
            "description_tooltip": null,
            "_model_module": "@jupyter-widgets/controls",
            "layout": "IPY_MODEL_8f06d505e3fc43bbb478796ea95dea5c"
          }
        },
        "838810f4642b4a0fbafdadcd14db13e5": {
          "model_module": "@jupyter-widgets/controls",
          "model_name": "HTMLModel",
          "state": {
            "_view_name": "HTMLView",
            "style": "IPY_MODEL_ec1c96324100409099c582b23606ce5e",
            "_dom_classes": [],
            "description": "",
            "_model_name": "HTMLModel",
            "placeholder": "​",
            "_view_module": "@jupyter-widgets/controls",
            "_model_module_version": "1.5.0",
            "value": " 9920512/? [00:20&lt;00:00, 1477399.58it/s]",
            "_view_count": null,
            "_view_module_version": "1.5.0",
            "description_tooltip": null,
            "_model_module": "@jupyter-widgets/controls",
            "layout": "IPY_MODEL_f562cb25affe48f3962259c6650297c6"
          }
        },
        "e60f9e932c7245cb84d825a5181e8a62": {
          "model_module": "@jupyter-widgets/controls",
          "model_name": "ProgressStyleModel",
          "state": {
            "_view_name": "StyleView",
            "_model_name": "ProgressStyleModel",
            "description_width": "initial",
            "_view_module": "@jupyter-widgets/base",
            "_model_module_version": "1.5.0",
            "_view_count": null,
            "_view_module_version": "1.2.0",
            "bar_color": null,
            "_model_module": "@jupyter-widgets/controls"
          }
        },
        "8f06d505e3fc43bbb478796ea95dea5c": {
          "model_module": "@jupyter-widgets/base",
          "model_name": "LayoutModel",
          "state": {
            "_view_name": "LayoutView",
            "grid_template_rows": null,
            "right": null,
            "justify_content": null,
            "_view_module": "@jupyter-widgets/base",
            "overflow": null,
            "_model_module_version": "1.2.0",
            "_view_count": null,
            "flex_flow": null,
            "width": null,
            "min_width": null,
            "border": null,
            "align_items": null,
            "bottom": null,
            "_model_module": "@jupyter-widgets/base",
            "top": null,
            "grid_column": null,
            "overflow_y": null,
            "overflow_x": null,
            "grid_auto_flow": null,
            "grid_area": null,
            "grid_template_columns": null,
            "flex": null,
            "_model_name": "LayoutModel",
            "justify_items": null,
            "grid_row": null,
            "max_height": null,
            "align_content": null,
            "visibility": null,
            "align_self": null,
            "height": null,
            "min_height": null,
            "padding": null,
            "grid_auto_rows": null,
            "grid_gap": null,
            "max_width": null,
            "order": null,
            "_view_module_version": "1.2.0",
            "grid_template_areas": null,
            "object_position": null,
            "object_fit": null,
            "grid_auto_columns": null,
            "margin": null,
            "display": null,
            "left": null
          }
        },
        "ec1c96324100409099c582b23606ce5e": {
          "model_module": "@jupyter-widgets/controls",
          "model_name": "DescriptionStyleModel",
          "state": {
            "_view_name": "StyleView",
            "_model_name": "DescriptionStyleModel",
            "description_width": "",
            "_view_module": "@jupyter-widgets/base",
            "_model_module_version": "1.5.0",
            "_view_count": null,
            "_view_module_version": "1.2.0",
            "_model_module": "@jupyter-widgets/controls"
          }
        },
        "f562cb25affe48f3962259c6650297c6": {
          "model_module": "@jupyter-widgets/base",
          "model_name": "LayoutModel",
          "state": {
            "_view_name": "LayoutView",
            "grid_template_rows": null,
            "right": null,
            "justify_content": null,
            "_view_module": "@jupyter-widgets/base",
            "overflow": null,
            "_model_module_version": "1.2.0",
            "_view_count": null,
            "flex_flow": null,
            "width": null,
            "min_width": null,
            "border": null,
            "align_items": null,
            "bottom": null,
            "_model_module": "@jupyter-widgets/base",
            "top": null,
            "grid_column": null,
            "overflow_y": null,
            "overflow_x": null,
            "grid_auto_flow": null,
            "grid_area": null,
            "grid_template_columns": null,
            "flex": null,
            "_model_name": "LayoutModel",
            "justify_items": null,
            "grid_row": null,
            "max_height": null,
            "align_content": null,
            "visibility": null,
            "align_self": null,
            "height": null,
            "min_height": null,
            "padding": null,
            "grid_auto_rows": null,
            "grid_gap": null,
            "max_width": null,
            "order": null,
            "_view_module_version": "1.2.0",
            "grid_template_areas": null,
            "object_position": null,
            "object_fit": null,
            "grid_auto_columns": null,
            "margin": null,
            "display": null,
            "left": null
          }
        },
        "6ccbba1e192f4d5f8bd0ee6693be9cc4": {
          "model_module": "@jupyter-widgets/controls",
          "model_name": "HBoxModel",
          "state": {
            "_view_name": "HBoxView",
            "_dom_classes": [],
            "_model_name": "HBoxModel",
            "_view_module": "@jupyter-widgets/controls",
            "_model_module_version": "1.5.0",
            "_view_count": null,
            "_view_module_version": "1.5.0",
            "box_style": "",
            "layout": "IPY_MODEL_a753da37148d4a73ada60a0d6ed80471",
            "_model_module": "@jupyter-widgets/controls",
            "children": [
              "IPY_MODEL_25aad37c35cd417387db79dba76f9512",
              "IPY_MODEL_96a97aa589df4d95b96f121150f0ed30"
            ]
          }
        },
        "a753da37148d4a73ada60a0d6ed80471": {
          "model_module": "@jupyter-widgets/base",
          "model_name": "LayoutModel",
          "state": {
            "_view_name": "LayoutView",
            "grid_template_rows": null,
            "right": null,
            "justify_content": null,
            "_view_module": "@jupyter-widgets/base",
            "overflow": null,
            "_model_module_version": "1.2.0",
            "_view_count": null,
            "flex_flow": null,
            "width": null,
            "min_width": null,
            "border": null,
            "align_items": null,
            "bottom": null,
            "_model_module": "@jupyter-widgets/base",
            "top": null,
            "grid_column": null,
            "overflow_y": null,
            "overflow_x": null,
            "grid_auto_flow": null,
            "grid_area": null,
            "grid_template_columns": null,
            "flex": null,
            "_model_name": "LayoutModel",
            "justify_items": null,
            "grid_row": null,
            "max_height": null,
            "align_content": null,
            "visibility": null,
            "align_self": null,
            "height": null,
            "min_height": null,
            "padding": null,
            "grid_auto_rows": null,
            "grid_gap": null,
            "max_width": null,
            "order": null,
            "_view_module_version": "1.2.0",
            "grid_template_areas": null,
            "object_position": null,
            "object_fit": null,
            "grid_auto_columns": null,
            "margin": null,
            "display": null,
            "left": null
          }
        },
        "25aad37c35cd417387db79dba76f9512": {
          "model_module": "@jupyter-widgets/controls",
          "model_name": "FloatProgressModel",
          "state": {
            "_view_name": "ProgressView",
            "style": "IPY_MODEL_5ea153987c1e4ccd9b8489244aa4b1e0",
            "_dom_classes": [],
            "description": "",
            "_model_name": "FloatProgressModel",
            "bar_style": "info",
            "max": 1,
            "_view_module": "@jupyter-widgets/controls",
            "_model_module_version": "1.5.0",
            "value": 1,
            "_view_count": null,
            "_view_module_version": "1.5.0",
            "orientation": "horizontal",
            "min": 0,
            "description_tooltip": null,
            "_model_module": "@jupyter-widgets/controls",
            "layout": "IPY_MODEL_08b499fbc6604f4585a5a5112421c882"
          }
        },
        "96a97aa589df4d95b96f121150f0ed30": {
          "model_module": "@jupyter-widgets/controls",
          "model_name": "HTMLModel",
          "state": {
            "_view_name": "HTMLView",
            "style": "IPY_MODEL_deb88ab962f241afb77934692ad8139b",
            "_dom_classes": [],
            "description": "",
            "_model_name": "HTMLModel",
            "placeholder": "​",
            "_view_module": "@jupyter-widgets/controls",
            "_model_module_version": "1.5.0",
            "value": " 32768/? [00:16&lt;00:00, 90689.45it/s]",
            "_view_count": null,
            "_view_module_version": "1.5.0",
            "description_tooltip": null,
            "_model_module": "@jupyter-widgets/controls",
            "layout": "IPY_MODEL_cddde1bde3e24dacb98d98d4c34dcd35"
          }
        },
        "5ea153987c1e4ccd9b8489244aa4b1e0": {
          "model_module": "@jupyter-widgets/controls",
          "model_name": "ProgressStyleModel",
          "state": {
            "_view_name": "StyleView",
            "_model_name": "ProgressStyleModel",
            "description_width": "initial",
            "_view_module": "@jupyter-widgets/base",
            "_model_module_version": "1.5.0",
            "_view_count": null,
            "_view_module_version": "1.2.0",
            "bar_color": null,
            "_model_module": "@jupyter-widgets/controls"
          }
        },
        "08b499fbc6604f4585a5a5112421c882": {
          "model_module": "@jupyter-widgets/base",
          "model_name": "LayoutModel",
          "state": {
            "_view_name": "LayoutView",
            "grid_template_rows": null,
            "right": null,
            "justify_content": null,
            "_view_module": "@jupyter-widgets/base",
            "overflow": null,
            "_model_module_version": "1.2.0",
            "_view_count": null,
            "flex_flow": null,
            "width": null,
            "min_width": null,
            "border": null,
            "align_items": null,
            "bottom": null,
            "_model_module": "@jupyter-widgets/base",
            "top": null,
            "grid_column": null,
            "overflow_y": null,
            "overflow_x": null,
            "grid_auto_flow": null,
            "grid_area": null,
            "grid_template_columns": null,
            "flex": null,
            "_model_name": "LayoutModel",
            "justify_items": null,
            "grid_row": null,
            "max_height": null,
            "align_content": null,
            "visibility": null,
            "align_self": null,
            "height": null,
            "min_height": null,
            "padding": null,
            "grid_auto_rows": null,
            "grid_gap": null,
            "max_width": null,
            "order": null,
            "_view_module_version": "1.2.0",
            "grid_template_areas": null,
            "object_position": null,
            "object_fit": null,
            "grid_auto_columns": null,
            "margin": null,
            "display": null,
            "left": null
          }
        },
        "deb88ab962f241afb77934692ad8139b": {
          "model_module": "@jupyter-widgets/controls",
          "model_name": "DescriptionStyleModel",
          "state": {
            "_view_name": "StyleView",
            "_model_name": "DescriptionStyleModel",
            "description_width": "",
            "_view_module": "@jupyter-widgets/base",
            "_model_module_version": "1.5.0",
            "_view_count": null,
            "_view_module_version": "1.2.0",
            "_model_module": "@jupyter-widgets/controls"
          }
        },
        "cddde1bde3e24dacb98d98d4c34dcd35": {
          "model_module": "@jupyter-widgets/base",
          "model_name": "LayoutModel",
          "state": {
            "_view_name": "LayoutView",
            "grid_template_rows": null,
            "right": null,
            "justify_content": null,
            "_view_module": "@jupyter-widgets/base",
            "overflow": null,
            "_model_module_version": "1.2.0",
            "_view_count": null,
            "flex_flow": null,
            "width": null,
            "min_width": null,
            "border": null,
            "align_items": null,
            "bottom": null,
            "_model_module": "@jupyter-widgets/base",
            "top": null,
            "grid_column": null,
            "overflow_y": null,
            "overflow_x": null,
            "grid_auto_flow": null,
            "grid_area": null,
            "grid_template_columns": null,
            "flex": null,
            "_model_name": "LayoutModel",
            "justify_items": null,
            "grid_row": null,
            "max_height": null,
            "align_content": null,
            "visibility": null,
            "align_self": null,
            "height": null,
            "min_height": null,
            "padding": null,
            "grid_auto_rows": null,
            "grid_gap": null,
            "max_width": null,
            "order": null,
            "_view_module_version": "1.2.0",
            "grid_template_areas": null,
            "object_position": null,
            "object_fit": null,
            "grid_auto_columns": null,
            "margin": null,
            "display": null,
            "left": null
          }
        },
        "0c2b18bd3bbc43f4ac951d6ad78e2a85": {
          "model_module": "@jupyter-widgets/controls",
          "model_name": "HBoxModel",
          "state": {
            "_view_name": "HBoxView",
            "_dom_classes": [],
            "_model_name": "HBoxModel",
            "_view_module": "@jupyter-widgets/controls",
            "_model_module_version": "1.5.0",
            "_view_count": null,
            "_view_module_version": "1.5.0",
            "box_style": "",
            "layout": "IPY_MODEL_8587e1df960d437981b93792ad2e3213",
            "_model_module": "@jupyter-widgets/controls",
            "children": [
              "IPY_MODEL_9e69f2337f6e426190ee493959bbbfae",
              "IPY_MODEL_72df7140c88d4cc0ba07a68f3be3612b"
            ]
          }
        },
        "8587e1df960d437981b93792ad2e3213": {
          "model_module": "@jupyter-widgets/base",
          "model_name": "LayoutModel",
          "state": {
            "_view_name": "LayoutView",
            "grid_template_rows": null,
            "right": null,
            "justify_content": null,
            "_view_module": "@jupyter-widgets/base",
            "overflow": null,
            "_model_module_version": "1.2.0",
            "_view_count": null,
            "flex_flow": null,
            "width": null,
            "min_width": null,
            "border": null,
            "align_items": null,
            "bottom": null,
            "_model_module": "@jupyter-widgets/base",
            "top": null,
            "grid_column": null,
            "overflow_y": null,
            "overflow_x": null,
            "grid_auto_flow": null,
            "grid_area": null,
            "grid_template_columns": null,
            "flex": null,
            "_model_name": "LayoutModel",
            "justify_items": null,
            "grid_row": null,
            "max_height": null,
            "align_content": null,
            "visibility": null,
            "align_self": null,
            "height": null,
            "min_height": null,
            "padding": null,
            "grid_auto_rows": null,
            "grid_gap": null,
            "max_width": null,
            "order": null,
            "_view_module_version": "1.2.0",
            "grid_template_areas": null,
            "object_position": null,
            "object_fit": null,
            "grid_auto_columns": null,
            "margin": null,
            "display": null,
            "left": null
          }
        },
        "9e69f2337f6e426190ee493959bbbfae": {
          "model_module": "@jupyter-widgets/controls",
          "model_name": "FloatProgressModel",
          "state": {
            "_view_name": "ProgressView",
            "style": "IPY_MODEL_f96aee0b30b148a0bc280294874f9c8d",
            "_dom_classes": [],
            "description": "",
            "_model_name": "FloatProgressModel",
            "bar_style": "success",
            "max": 1,
            "_view_module": "@jupyter-widgets/controls",
            "_model_module_version": "1.5.0",
            "value": 1,
            "_view_count": null,
            "_view_module_version": "1.5.0",
            "orientation": "horizontal",
            "min": 0,
            "description_tooltip": null,
            "_model_module": "@jupyter-widgets/controls",
            "layout": "IPY_MODEL_6832ea771a08437fbd7701e91a32ad8c"
          }
        },
        "72df7140c88d4cc0ba07a68f3be3612b": {
          "model_module": "@jupyter-widgets/controls",
          "model_name": "HTMLModel",
          "state": {
            "_view_name": "HTMLView",
            "style": "IPY_MODEL_28f9b776bd6443b7a511fbe635e28bf5",
            "_dom_classes": [],
            "description": "",
            "_model_name": "HTMLModel",
            "placeholder": "​",
            "_view_module": "@jupyter-widgets/controls",
            "_model_module_version": "1.5.0",
            "value": " 1654784/? [00:02&lt;00:00, 671260.70it/s]",
            "_view_count": null,
            "_view_module_version": "1.5.0",
            "description_tooltip": null,
            "_model_module": "@jupyter-widgets/controls",
            "layout": "IPY_MODEL_0b4fca71a53e4cc0904a072b3737d580"
          }
        },
        "f96aee0b30b148a0bc280294874f9c8d": {
          "model_module": "@jupyter-widgets/controls",
          "model_name": "ProgressStyleModel",
          "state": {
            "_view_name": "StyleView",
            "_model_name": "ProgressStyleModel",
            "description_width": "initial",
            "_view_module": "@jupyter-widgets/base",
            "_model_module_version": "1.5.0",
            "_view_count": null,
            "_view_module_version": "1.2.0",
            "bar_color": null,
            "_model_module": "@jupyter-widgets/controls"
          }
        },
        "6832ea771a08437fbd7701e91a32ad8c": {
          "model_module": "@jupyter-widgets/base",
          "model_name": "LayoutModel",
          "state": {
            "_view_name": "LayoutView",
            "grid_template_rows": null,
            "right": null,
            "justify_content": null,
            "_view_module": "@jupyter-widgets/base",
            "overflow": null,
            "_model_module_version": "1.2.0",
            "_view_count": null,
            "flex_flow": null,
            "width": null,
            "min_width": null,
            "border": null,
            "align_items": null,
            "bottom": null,
            "_model_module": "@jupyter-widgets/base",
            "top": null,
            "grid_column": null,
            "overflow_y": null,
            "overflow_x": null,
            "grid_auto_flow": null,
            "grid_area": null,
            "grid_template_columns": null,
            "flex": null,
            "_model_name": "LayoutModel",
            "justify_items": null,
            "grid_row": null,
            "max_height": null,
            "align_content": null,
            "visibility": null,
            "align_self": null,
            "height": null,
            "min_height": null,
            "padding": null,
            "grid_auto_rows": null,
            "grid_gap": null,
            "max_width": null,
            "order": null,
            "_view_module_version": "1.2.0",
            "grid_template_areas": null,
            "object_position": null,
            "object_fit": null,
            "grid_auto_columns": null,
            "margin": null,
            "display": null,
            "left": null
          }
        },
        "28f9b776bd6443b7a511fbe635e28bf5": {
          "model_module": "@jupyter-widgets/controls",
          "model_name": "DescriptionStyleModel",
          "state": {
            "_view_name": "StyleView",
            "_model_name": "DescriptionStyleModel",
            "description_width": "",
            "_view_module": "@jupyter-widgets/base",
            "_model_module_version": "1.5.0",
            "_view_count": null,
            "_view_module_version": "1.2.0",
            "_model_module": "@jupyter-widgets/controls"
          }
        },
        "0b4fca71a53e4cc0904a072b3737d580": {
          "model_module": "@jupyter-widgets/base",
          "model_name": "LayoutModel",
          "state": {
            "_view_name": "LayoutView",
            "grid_template_rows": null,
            "right": null,
            "justify_content": null,
            "_view_module": "@jupyter-widgets/base",
            "overflow": null,
            "_model_module_version": "1.2.0",
            "_view_count": null,
            "flex_flow": null,
            "width": null,
            "min_width": null,
            "border": null,
            "align_items": null,
            "bottom": null,
            "_model_module": "@jupyter-widgets/base",
            "top": null,
            "grid_column": null,
            "overflow_y": null,
            "overflow_x": null,
            "grid_auto_flow": null,
            "grid_area": null,
            "grid_template_columns": null,
            "flex": null,
            "_model_name": "LayoutModel",
            "justify_items": null,
            "grid_row": null,
            "max_height": null,
            "align_content": null,
            "visibility": null,
            "align_self": null,
            "height": null,
            "min_height": null,
            "padding": null,
            "grid_auto_rows": null,
            "grid_gap": null,
            "max_width": null,
            "order": null,
            "_view_module_version": "1.2.0",
            "grid_template_areas": null,
            "object_position": null,
            "object_fit": null,
            "grid_auto_columns": null,
            "margin": null,
            "display": null,
            "left": null
          }
        },
        "463ac6b74f1149209732c8ea218f908c": {
          "model_module": "@jupyter-widgets/controls",
          "model_name": "HBoxModel",
          "state": {
            "_view_name": "HBoxView",
            "_dom_classes": [],
            "_model_name": "HBoxModel",
            "_view_module": "@jupyter-widgets/controls",
            "_model_module_version": "1.5.0",
            "_view_count": null,
            "_view_module_version": "1.5.0",
            "box_style": "",
            "layout": "IPY_MODEL_aa7ca892f5394969afac41262e90d40a",
            "_model_module": "@jupyter-widgets/controls",
            "children": [
              "IPY_MODEL_e42debcd20944ab4b4e6d5d957f5b35d",
              "IPY_MODEL_de490c969dcf427baa7a6ef97e028d0b"
            ]
          }
        },
        "aa7ca892f5394969afac41262e90d40a": {
          "model_module": "@jupyter-widgets/base",
          "model_name": "LayoutModel",
          "state": {
            "_view_name": "LayoutView",
            "grid_template_rows": null,
            "right": null,
            "justify_content": null,
            "_view_module": "@jupyter-widgets/base",
            "overflow": null,
            "_model_module_version": "1.2.0",
            "_view_count": null,
            "flex_flow": null,
            "width": null,
            "min_width": null,
            "border": null,
            "align_items": null,
            "bottom": null,
            "_model_module": "@jupyter-widgets/base",
            "top": null,
            "grid_column": null,
            "overflow_y": null,
            "overflow_x": null,
            "grid_auto_flow": null,
            "grid_area": null,
            "grid_template_columns": null,
            "flex": null,
            "_model_name": "LayoutModel",
            "justify_items": null,
            "grid_row": null,
            "max_height": null,
            "align_content": null,
            "visibility": null,
            "align_self": null,
            "height": null,
            "min_height": null,
            "padding": null,
            "grid_auto_rows": null,
            "grid_gap": null,
            "max_width": null,
            "order": null,
            "_view_module_version": "1.2.0",
            "grid_template_areas": null,
            "object_position": null,
            "object_fit": null,
            "grid_auto_columns": null,
            "margin": null,
            "display": null,
            "left": null
          }
        },
        "e42debcd20944ab4b4e6d5d957f5b35d": {
          "model_module": "@jupyter-widgets/controls",
          "model_name": "FloatProgressModel",
          "state": {
            "_view_name": "ProgressView",
            "style": "IPY_MODEL_6e35b39d00f842648aaebd7614284907",
            "_dom_classes": [],
            "description": "",
            "_model_name": "FloatProgressModel",
            "bar_style": "success",
            "max": 1,
            "_view_module": "@jupyter-widgets/controls",
            "_model_module_version": "1.5.0",
            "value": 1,
            "_view_count": null,
            "_view_module_version": "1.5.0",
            "orientation": "horizontal",
            "min": 0,
            "description_tooltip": null,
            "_model_module": "@jupyter-widgets/controls",
            "layout": "IPY_MODEL_be340078f2b64b40b0a638cab16b075c"
          }
        },
        "de490c969dcf427baa7a6ef97e028d0b": {
          "model_module": "@jupyter-widgets/controls",
          "model_name": "HTMLModel",
          "state": {
            "_view_name": "HTMLView",
            "style": "IPY_MODEL_28b60b9bb91a49119e552c0f5585f71f",
            "_dom_classes": [],
            "description": "",
            "_model_name": "HTMLModel",
            "placeholder": "​",
            "_view_module": "@jupyter-widgets/controls",
            "_model_module_version": "1.5.0",
            "value": " 8192/? [00:00&lt;00:00, 10943.61it/s]",
            "_view_count": null,
            "_view_module_version": "1.5.0",
            "description_tooltip": null,
            "_model_module": "@jupyter-widgets/controls",
            "layout": "IPY_MODEL_fee498ffc0674991b03317f1c6bb57ac"
          }
        },
        "6e35b39d00f842648aaebd7614284907": {
          "model_module": "@jupyter-widgets/controls",
          "model_name": "ProgressStyleModel",
          "state": {
            "_view_name": "StyleView",
            "_model_name": "ProgressStyleModel",
            "description_width": "initial",
            "_view_module": "@jupyter-widgets/base",
            "_model_module_version": "1.5.0",
            "_view_count": null,
            "_view_module_version": "1.2.0",
            "bar_color": null,
            "_model_module": "@jupyter-widgets/controls"
          }
        },
        "be340078f2b64b40b0a638cab16b075c": {
          "model_module": "@jupyter-widgets/base",
          "model_name": "LayoutModel",
          "state": {
            "_view_name": "LayoutView",
            "grid_template_rows": null,
            "right": null,
            "justify_content": null,
            "_view_module": "@jupyter-widgets/base",
            "overflow": null,
            "_model_module_version": "1.2.0",
            "_view_count": null,
            "flex_flow": null,
            "width": null,
            "min_width": null,
            "border": null,
            "align_items": null,
            "bottom": null,
            "_model_module": "@jupyter-widgets/base",
            "top": null,
            "grid_column": null,
            "overflow_y": null,
            "overflow_x": null,
            "grid_auto_flow": null,
            "grid_area": null,
            "grid_template_columns": null,
            "flex": null,
            "_model_name": "LayoutModel",
            "justify_items": null,
            "grid_row": null,
            "max_height": null,
            "align_content": null,
            "visibility": null,
            "align_self": null,
            "height": null,
            "min_height": null,
            "padding": null,
            "grid_auto_rows": null,
            "grid_gap": null,
            "max_width": null,
            "order": null,
            "_view_module_version": "1.2.0",
            "grid_template_areas": null,
            "object_position": null,
            "object_fit": null,
            "grid_auto_columns": null,
            "margin": null,
            "display": null,
            "left": null
          }
        },
        "28b60b9bb91a49119e552c0f5585f71f": {
          "model_module": "@jupyter-widgets/controls",
          "model_name": "DescriptionStyleModel",
          "state": {
            "_view_name": "StyleView",
            "_model_name": "DescriptionStyleModel",
            "description_width": "",
            "_view_module": "@jupyter-widgets/base",
            "_model_module_version": "1.5.0",
            "_view_count": null,
            "_view_module_version": "1.2.0",
            "_model_module": "@jupyter-widgets/controls"
          }
        },
        "fee498ffc0674991b03317f1c6bb57ac": {
          "model_module": "@jupyter-widgets/base",
          "model_name": "LayoutModel",
          "state": {
            "_view_name": "LayoutView",
            "grid_template_rows": null,
            "right": null,
            "justify_content": null,
            "_view_module": "@jupyter-widgets/base",
            "overflow": null,
            "_model_module_version": "1.2.0",
            "_view_count": null,
            "flex_flow": null,
            "width": null,
            "min_width": null,
            "border": null,
            "align_items": null,
            "bottom": null,
            "_model_module": "@jupyter-widgets/base",
            "top": null,
            "grid_column": null,
            "overflow_y": null,
            "overflow_x": null,
            "grid_auto_flow": null,
            "grid_area": null,
            "grid_template_columns": null,
            "flex": null,
            "_model_name": "LayoutModel",
            "justify_items": null,
            "grid_row": null,
            "max_height": null,
            "align_content": null,
            "visibility": null,
            "align_self": null,
            "height": null,
            "min_height": null,
            "padding": null,
            "grid_auto_rows": null,
            "grid_gap": null,
            "max_width": null,
            "order": null,
            "_view_module_version": "1.2.0",
            "grid_template_areas": null,
            "object_position": null,
            "object_fit": null,
            "grid_auto_columns": null,
            "margin": null,
            "display": null,
            "left": null
          }
        }
      }
    }
  },
  "cells": [
    {
      "cell_type": "code",
      "metadata": {
        "id": "sIB-wApyKPHQ"
      },
      "source": [
        "# importing required libraries\n",
        "import torch\n",
        "import torch.nn as nn\n",
        "import torch.nn.functional as F\n",
        "import torch.optim as optim\n",
        "import torchvision\n",
        "import os\n",
        "import sys\n",
        "import matplotlib.pyplot as plt\n",
        "import numpy as np\n",
        "from decimal import Decimal"
      ],
      "execution_count": null,
      "outputs": []
    },
    {
      "cell_type": "code",
      "metadata": {
        "colab": {
          "base_uri": "https://localhost:8080/",
          "height": 369,
          "referenced_widgets": [
            "2dd684e92a714ffbb55dd46d9a541ce0",
            "e9f8eab4c7554e7986e6fe98f0868cab",
            "309fb8147d574f81b51faf8a61c02ba4",
            "838810f4642b4a0fbafdadcd14db13e5",
            "e60f9e932c7245cb84d825a5181e8a62",
            "8f06d505e3fc43bbb478796ea95dea5c",
            "ec1c96324100409099c582b23606ce5e",
            "f562cb25affe48f3962259c6650297c6",
            "6ccbba1e192f4d5f8bd0ee6693be9cc4",
            "a753da37148d4a73ada60a0d6ed80471",
            "25aad37c35cd417387db79dba76f9512",
            "96a97aa589df4d95b96f121150f0ed30",
            "5ea153987c1e4ccd9b8489244aa4b1e0",
            "08b499fbc6604f4585a5a5112421c882",
            "deb88ab962f241afb77934692ad8139b",
            "cddde1bde3e24dacb98d98d4c34dcd35",
            "0c2b18bd3bbc43f4ac951d6ad78e2a85",
            "8587e1df960d437981b93792ad2e3213",
            "9e69f2337f6e426190ee493959bbbfae",
            "72df7140c88d4cc0ba07a68f3be3612b",
            "f96aee0b30b148a0bc280294874f9c8d",
            "6832ea771a08437fbd7701e91a32ad8c",
            "28f9b776bd6443b7a511fbe635e28bf5",
            "0b4fca71a53e4cc0904a072b3737d580",
            "463ac6b74f1149209732c8ea218f908c",
            "aa7ca892f5394969afac41262e90d40a",
            "e42debcd20944ab4b4e6d5d957f5b35d",
            "de490c969dcf427baa7a6ef97e028d0b",
            "6e35b39d00f842648aaebd7614284907",
            "be340078f2b64b40b0a638cab16b075c",
            "28b60b9bb91a49119e552c0f5585f71f",
            "fee498ffc0674991b03317f1c6bb57ac"
          ]
        },
        "id": "NtdUK6pVKPHR",
        "outputId": "22e292ff-9be0-4883-fde2-bc3379b07271"
      },
      "source": [
        "# downloading the data\n",
        "batch_size_train = 64\n",
        "batch_size_test = 1000\n",
        "train_loader = torch.utils.data.DataLoader(\n",
        "    torchvision.datasets.MNIST('./files/', train=True, download=True,\n",
        "    transform=torchvision.transforms.Compose([\n",
        "        torchvision.transforms.ToTensor(),\n",
        "        torchvision.transforms.Normalize(\n",
        "            (0.1307,), (0.3081,))])),\n",
        "            batch_size=batch_size_train, shuffle=True)\n",
        "\n",
        "test_loader = torch.utils.data.DataLoader(\n",
        "    torchvision.datasets.MNIST('./files/', train=False, download=True,\n",
        "    transform=torchvision.transforms.Compose([\n",
        "        torchvision.transforms.ToTensor(),\n",
        "        torchvision.transforms.Normalize(\n",
        "            (0.1307,), (0.3081,))])),\n",
        "            batch_size=batch_size_test, shuffle=True)\n"
      ],
      "execution_count": null,
      "outputs": [
        {
          "output_type": "stream",
          "text": [
            "Downloading http://yann.lecun.com/exdb/mnist/train-images-idx3-ubyte.gz to ./files/MNIST/raw/train-images-idx3-ubyte.gz\n"
          ],
          "name": "stdout"
        },
        {
          "output_type": "display_data",
          "data": {
            "application/vnd.jupyter.widget-view+json": {
              "model_id": "2dd684e92a714ffbb55dd46d9a541ce0",
              "version_minor": 0,
              "version_major": 2
            },
            "text/plain": [
              "HBox(children=(FloatProgress(value=1.0, bar_style='info', max=1.0), HTML(value='')))"
            ]
          },
          "metadata": {
            "tags": []
          }
        },
        {
          "output_type": "stream",
          "text": [
            "Extracting ./files/MNIST/raw/train-images-idx3-ubyte.gz to ./files/MNIST/raw\n",
            "Downloading http://yann.lecun.com/exdb/mnist/train-labels-idx1-ubyte.gz to ./files/MNIST/raw/train-labels-idx1-ubyte.gz\n"
          ],
          "name": "stdout"
        },
        {
          "output_type": "display_data",
          "data": {
            "application/vnd.jupyter.widget-view+json": {
              "model_id": "6ccbba1e192f4d5f8bd0ee6693be9cc4",
              "version_minor": 0,
              "version_major": 2
            },
            "text/plain": [
              "HBox(children=(FloatProgress(value=1.0, bar_style='info', max=1.0), HTML(value='')))"
            ]
          },
          "metadata": {
            "tags": []
          }
        },
        {
          "output_type": "stream",
          "text": [
            "Extracting ./files/MNIST/raw/train-labels-idx1-ubyte.gz to ./files/MNIST/raw\n",
            "Downloading http://yann.lecun.com/exdb/mnist/t10k-images-idx3-ubyte.gz to ./files/MNIST/raw/t10k-images-idx3-ubyte.gz\n"
          ],
          "name": "stdout"
        },
        {
          "output_type": "display_data",
          "data": {
            "application/vnd.jupyter.widget-view+json": {
              "model_id": "0c2b18bd3bbc43f4ac951d6ad78e2a85",
              "version_minor": 0,
              "version_major": 2
            },
            "text/plain": [
              "HBox(children=(FloatProgress(value=1.0, bar_style='info', max=1.0), HTML(value='')))"
            ]
          },
          "metadata": {
            "tags": []
          }
        },
        {
          "output_type": "stream",
          "text": [
            "Extracting ./files/MNIST/raw/t10k-images-idx3-ubyte.gz to ./files/MNIST/raw\n",
            "Downloading http://yann.lecun.com/exdb/mnist/t10k-labels-idx1-ubyte.gz to ./files/MNIST/raw/t10k-labels-idx1-ubyte.gz\n"
          ],
          "name": "stdout"
        },
        {
          "output_type": "display_data",
          "data": {
            "application/vnd.jupyter.widget-view+json": {
              "model_id": "463ac6b74f1149209732c8ea218f908c",
              "version_minor": 0,
              "version_major": 2
            },
            "text/plain": [
              "HBox(children=(FloatProgress(value=1.0, bar_style='info', max=1.0), HTML(value='')))"
            ]
          },
          "metadata": {
            "tags": []
          }
        },
        {
          "output_type": "stream",
          "text": [
            "Extracting ./files/MNIST/raw/t10k-labels-idx1-ubyte.gz to ./files/MNIST/raw\n",
            "Processing...\n",
            "Done!\n"
          ],
          "name": "stdout"
        },
        {
          "output_type": "stream",
          "text": [
            "/usr/local/lib/python3.6/dist-packages/torchvision/datasets/mnist.py:480: UserWarning: The given NumPy array is not writeable, and PyTorch does not support non-writeable tensors. This means you can write to the underlying (supposedly non-writeable) NumPy array using the tensor. You may want to copy the array to protect its data or make it writeable before converting it to a tensor. This type of warning will be suppressed for the rest of this program. (Triggered internally at  /pytorch/torch/csrc/utils/tensor_numpy.cpp:141.)\n",
            "  return torch.from_numpy(parsed.astype(m[2], copy=False)).view(*s)\n"
          ],
          "name": "stderr"
        }
      ]
    },
    {
      "cell_type": "code",
      "metadata": {
        "id": "36uYsIViKPHR"
      },
      "source": [
        "# defining the dropout module\n",
        "class MyDropout(nn.Module):\n",
        "    def __init__(self, p):\n",
        "        self.p = p\n",
        "        self.previous_pattern=False\n",
        "        super().__init__()\n",
        "\n",
        "    def forward(self, x):\n",
        "        if not self.p:\n",
        "            return x\n",
        "        # p is non-zero at this point\n",
        "        if not self.training and not self.previous_pattern:\n",
        "                return x\n",
        "        # at this point, either (train time) or (test time, previous_pattern)\n",
        "        x = x.clone()\n",
        "        if self.training:\n",
        "            mask = x.new_empty(1, x.size(1), requires_grad = False).bernoulli_(1-self.p)\n",
        "            mask = mask.div_(1-self.p)\n",
        "            self.mask = mask.clone()\n",
        "        else: # test time, previous_pattern\n",
        "            mask = self.mask.clone()\n",
        "            # print(\"only %d neurons are active!\"%(torch.sum((mask>0).int())))\n",
        "        mask = mask.expand_as(x)\n",
        "        return x * mask"
      ],
      "execution_count": null,
      "outputs": []
    },
    {
      "cell_type": "code",
      "metadata": {
        "colab": {
          "base_uri": "https://localhost:8080/"
        },
        "id": "vBhbRdCSKPHR",
        "outputId": "3ecedc18-db28-48f1-c3ec-8c49d9bd9c5b"
      },
      "source": [
        "# defining the network\n",
        "class Net(nn.Module):\n",
        "    def __init__(self, width, p):\n",
        "        super(Net, self).__init__()\n",
        "        self.conv1 = nn.Conv2d(1, 10, kernel_size=5)\n",
        "        self.conv2 = nn.Conv2d(10, 20, kernel_size=5)\n",
        "        self.fc1 = nn.Linear(320, width)\n",
        "        self.dropout = MyDropout(p)\n",
        "        self.fc2 = nn.Linear(width, 10)\n",
        "\n",
        "    def forward(self, x):\n",
        "        x = F.relu(F.max_pool2d(self.conv1(x), 2))\n",
        "        x = F.relu(F.max_pool2d(self.conv2(x), 2))\n",
        "        x = x.view(-1, 320)\n",
        "        x = F.relu(self.fc1(x))\n",
        "        x = self.dropout(x)\n",
        "        x = self.fc2(x)\n",
        "        return F.log_softmax(x)"
      ],
      "execution_count": null,
      "outputs": [
        {
          "output_type": "stream",
          "text": [
            "\n",
            "\n"
          ],
          "name": "stdout"
        }
      ]
    },
    {
      "cell_type": "code",
      "metadata": {
        "id": "FD-5H2vIKPHR"
      },
      "source": [
        "# the training function\n",
        "def train(epoch):\n",
        "    network.train()\n",
        "    for batch_idx, (data, target) in enumerate(train_loader):\n",
        "        data, target = data.to(device), target.to(device)\n",
        "        optimizer.zero_grad()\n",
        "        output = network(data)\n",
        "        loss = F.nll_loss(output, target)\n",
        "        loss.backward()\n",
        "        optimizer.step()\n",
        "        if (epoch==1 and batch_idx in test_log_intervals) or (batch_idx and batch_idx % log_interval == 0):\n",
        "            print('Train Epoch: {} [{}/{} ({:.0f}%)]\\tLoss: {:.6f}'.format(\n",
        "              epoch, batch_idx * len(data), len(train_loader.dataset),\n",
        "              100. * batch_idx / len(train_loader), loss.item()))\n",
        "            train_losses.append(loss.item())\n",
        "            train_counter.append((batch_idx*64) + ((epoch-1)*len(train_loader.dataset)))\n",
        "        if (epoch==1 and batch_idx in test_log_intervals) or (batch_idx and batch_idx % test_log_interval == 0):\n",
        "            test_counter.append((batch_idx*64) + ((epoch-1)*len(train_loader.dataset)))\n",
        "            test()\n",
        "            test(previous_pattern=True)\n",
        "        network.train()\n",
        "    test_counter.append((batch_idx*64) + ((epoch-1)*len(train_loader.dataset)))\n",
        "    test()\n",
        "    test(previous_pattern=True)\n",
        "    if  run == 0 and width in [500, 5000, 50000, 250000] and learning_rate == 0.01 and drop_rate == 0.5:\n",
        "        model_name = './results/models/model_lr=%f_rate=%f_width=%d_run=%d.pt'%(learning_rate, drop_rate, width, run)\n",
        "        optim_name = './results/optims/optim_lr=%f_rate=%f_width=%d_run=%d.pt'%(learning_rate, drop_rate, width, run)\n",
        "        torch.save(network.state_dict(), model_name)\n",
        "        torch.save(optimizer.state_dict(), optim_name)\n",
        "\n",
        "# the test function\n",
        "def test(previous_pattern=False):\n",
        "    network.eval()\n",
        "    network.dropout.previous_pattern = previous_pattern\n",
        "    test_loss = 0\n",
        "    correct = 0\n",
        "    with torch.no_grad():\n",
        "        for data, target in test_loader:\n",
        "            data, target = data.to(device), target.to(device)\n",
        "            output = network(data)\n",
        "            test_loss += F.nll_loss(output, target, size_average=False).item()\n",
        "            pred = output.data.max(1, keepdim=True)[1]\n",
        "            correct += pred.eq(target.data.view_as(pred)).sum()\n",
        "    test_loss /= len(test_loader.dataset)\n",
        "    acc = 100. * correct / len(test_loader.dataset)\n",
        "    if previous_pattern:\n",
        "        test_sparse_losses.append(test_loss)\n",
        "        test_sparse_acc.append(acc)\n",
        "        print('\\nTest sparse set: Avg. loss: {:.4f}, Accuracy: {}/{} ({:.1f}%)\\n'.format(\n",
        "            test_loss, correct, len(test_loader.dataset), acc))\n",
        "    else:\n",
        "        test_losses.append(test_loss)\n",
        "        test_acc.append(acc)\n",
        "        print('\\nTest set: Avg. loss: {:.4f}, Accuracy: {}/{} ({:.1f}%)\\n'.format(\n",
        "            test_loss, correct, len(test_loader.dataset), acc))\n",
        "    network.dropout.previous_pattern = False\n"
      ],
      "execution_count": null,
      "outputs": []
    },
    {
      "cell_type": "code",
      "metadata": {
        "id": "sQE2grZNKPHR"
      },
      "source": [
        "# cuda?\n",
        "device = torch.device(\"cuda:0\" if torch.cuda.is_available() else \"cpu\")\n",
        "\n",
        "# initializing parameters\n",
        "lrs = [0.01]\n",
        "drop_rates = [0.3]\n",
        "widths = [10000]\n",
        "n_epochs = 5\n",
        "batch_size_train = 64\n",
        "batch_size_test = 1000\n",
        "momentum = 0.0\n",
        "log_interval = 25\n",
        "test_log_interval = 200\n",
        "test_log_intervals = [1, 10, 25, 50, 100, 150, 200, 300, 500]\n",
        "\n",
        "# main loop\n",
        "runs = [0]\n",
        "run = runs[0]\n",
        "random_seed = run + 1"
      ],
      "execution_count": null,
      "outputs": []
    },
    {
      "cell_type": "code",
      "metadata": {
        "colab": {
          "base_uri": "https://localhost:8080/"
        },
        "id": "FijvBfTFKPHR",
        "outputId": "51f30ad3-26cb-4d72-e7f6-4a7efb7e34da"
      },
      "source": [
        "for learning_rate in lrs:\n",
        "    for drop_rate in drop_rates:\n",
        "        for width in widths:\n",
        "            torch.manual_seed(random_seed)\n",
        "            if not os.path.exists('./results/stats/'):\n",
        "                os.makedirs('./results/stats/')            \n",
        "            print('run = %d, width = %d, rate = %f, lr = %f'%(run, width, drop_rate, learning_rate))\n",
        "            file_name = './results/stats/stats_lr=%f_rate=%f_width=%d_run=%d.pt'%(learning_rate, drop_rate, width, run)\n",
        "            if os.path.isfile(file_name):\n",
        "                print('%s already exists'%file_name)\n",
        "                continue\n",
        "            \n",
        "            train_losses, test_losses, test_acc, test_sparse_losses, test_sparse_acc, train_counter, test_counter = [], [], [], [], [], [], []\n",
        "\n",
        "            network = Net(width, drop_rate)\n",
        "            network.to(device)\n",
        "            optimizer = optim.SGD(network.parameters(), lr=learning_rate, momentum=momentum)\n",
        "\n",
        "            for epoch in range(1, n_epochs + 1):\n",
        "              train(epoch)\n",
        "\n",
        "            torch.save({'train_counter': train_counter,\n",
        "                        'test_counter': test_counter,\n",
        "                        'test_sparse_losses': test_sparse_losses,\n",
        "                        'test_sparse_acc': test_sparse_acc,\n",
        "                        'test_losses': test_losses,\n",
        "                        'test_acc': test_acc,\n",
        "                        'train_losses': train_losses}, file_name)\n",
        "\n"
      ],
      "execution_count": null,
      "outputs": [
        {
          "output_type": "stream",
          "text": [
            "run = 0, width = 10000, rate = 0.300000, lr = 0.010000\n",
            "./results/stats/stats_lr=0.010000_rate=0.300000_width=10000_run=0.pt already exists\n"
          ],
          "name": "stdout"
        }
      ]
    },
    {
      "cell_type": "code",
      "metadata": {
        "colab": {
          "base_uri": "https://localhost:8080/"
        },
        "id": "iNkf24TGKPHS",
        "outputId": "b8ac82df-ab5b-46a9-9aef-66bdecae609a"
      },
      "source": [
        "results_dir = os.listdir('./results/stats')\n",
        "first_file = results_dir[0]\n",
        "first_dict = torch.load('./results/stats/%s'%first_file, map_location=torch.device('cpu'))\n",
        "train_counter = first_dict['train_counter']\n",
        "test_counter = first_dict['test_counter']\n",
        "first_dict.keys()"
      ],
      "execution_count": null,
      "outputs": [
        {
          "output_type": "execute_result",
          "data": {
            "text/plain": [
              "dict_keys(['train_counter', 'test_counter', 'test_sparse_losses', 'test_sparse_acc', 'test_losses', 'test_acc', 'train_losses'])"
            ]
          },
          "metadata": {
            "tags": []
          },
          "execution_count": 14
        }
      ]
    },
    {
      "cell_type": "code",
      "metadata": {
        "id": "CBa9huVhKPHS"
      },
      "source": [
        "train_loss  = np.zeros([len(runs), len(lrs), len(drop_rates), len(widths), len(train_counter)])\n",
        "test_loss   = np.zeros([len(runs), len(lrs), len(drop_rates), len(widths), len(test_counter)])\n",
        "test_acc    = np.zeros([len(runs), len(lrs), len(drop_rates), len(widths), len(test_counter)])\n",
        "sparse_loss = np.zeros([len(runs), len(lrs), len(drop_rates), len(widths), len(test_counter)])\n",
        "sparse_acc  = np.zeros([len(runs), len(lrs), len(drop_rates), len(widths), len(test_counter)])"
      ],
      "execution_count": null,
      "outputs": []
    },
    {
      "cell_type": "code",
      "metadata": {
        "id": "oMSw7OTEKPHS"
      },
      "source": [
        "for r_idx, r in enumerate(runs):\n",
        "    for lr_idx, lr in enumerate(lrs):\n",
        "        for p_idx, p in enumerate(drop_rates):\n",
        "            for w_idx, w in enumerate(widths):\n",
        "                file_name = 'stats_lr=%f_rate=%f_width=%d_run=%d.pt'%(lr, p, w, r)\n",
        "                if file_name in results_dir:\n",
        "                    results_dict = torch.load('./results/stats/%s'%file_name, map_location=torch.device('cpu'))\n",
        "                    train_loss[r_idx, lr_idx, p_idx, w_idx, :] = results_dict['train_losses']\n",
        "                    test_loss[r_idx, lr_idx, p_idx, w_idx, :] = results_dict['test_losses']\n",
        "                    test_acc[r_idx, lr_idx, p_idx, w_idx, :] = results_dict['test_acc']\n",
        "                    sparse_loss[r_idx, lr_idx, p_idx, w_idx, :] = results_dict['test_sparse_losses']\n",
        "                    sparse_acc[r_idx, lr_idx, p_idx, w_idx, :] = results_dict['test_sparse_acc']\n",
        "                else:\n",
        "                    print('bad lr=%f_rate=%f_width=%d_run=%d'%(lr, p, w, r))\n",
        "                    train_loss[r_idx, lr_idx, p_idx, w_idx, :] = np.array([np.nan]*len(train_counter))\n",
        "                    test_loss[r_idx, lr_idx, p_idx, w_idx, :] = np.array([np.nan]*len(test_counter))\n",
        "                    test_acc[r_idx, lr_idx, p_idx, w_idx, :] = np.array([np.nan]*len(test_counter))\n",
        "                    sparse_loss[r_idx, lr_idx, p_idx, w_idx, :] = np.array([np.nan]*len(test_counter)) \n",
        "                    sparse_acc[r_idx, lr_idx, p_idx, w_idx, :] = np.array([np.nan]*len(test_counter)) "
      ],
      "execution_count": null,
      "outputs": []
    },
    {
      "cell_type": "code",
      "metadata": {
        "id": "-TnN9Lm1KPHS"
      },
      "source": [
        "train_loss_mean = np.nanmin(train_loss, axis=0)\n",
        "train_loss_std = np.nanstd(train_loss, axis=0)\n",
        "\n",
        "test_loss_mean = np.nanmin(test_loss, axis=0)\n",
        "test_loss_std = np.nanstd(test_loss, axis=0)\n",
        "\n",
        "test_acc_mean = np.nanmin(test_acc, axis=0)\n",
        "test_acc_std = np.nanstd(test_acc, axis=0)\n",
        "\n",
        "sparse_loss_mean = np.nanmin(sparse_loss, axis=0)\n",
        "sparse_loss_std = np.nanstd(sparse_loss, axis=0)\n",
        "\n",
        "sparse_acc_mean = np.nanmin(sparse_acc, axis=0)\n",
        "sparse_acc_std = np.nanstd(sparse_acc, axis=0)"
      ],
      "execution_count": null,
      "outputs": []
    },
    {
      "cell_type": "code",
      "metadata": {
        "colab": {
          "base_uri": "https://localhost:8080/",
          "height": 604
        },
        "id": "9kqn8Y_mKPHS",
        "outputId": "78f13167-e859-4560-deee-08a5ffcc1337"
      },
      "source": [
        "cutoff = 1\n",
        "for lr_idx, lr in enumerate(lrs):\n",
        "    for p_idx, p in enumerate(drop_rates):\n",
        "        for w_idx, w in enumerate(widths):\n",
        "\n",
        "            curr_test = test_acc_mean[lr_idx, p_idx, w_idx, cutoff:]\n",
        "            curr_test_std = test_acc_std[lr_idx, p_idx, w_idx, cutoff:]\n",
        "\n",
        "            curr_sparse = sparse_acc_mean[lr_idx, p_idx, w_idx, cutoff:]\n",
        "            curr_sparse_std = sparse_acc_std[lr_idx, p_idx, w_idx, cutoff:]\n",
        "\n",
        "#             plot_name = './plots/acc_iter_lr=%f_rate=%f_width=%d.pdf'%(lr, p, w)\n",
        "            plot_name = './plots/acc_iter_rate=%.E_width=%d.pdf'%(Decimal(p), w)\n",
        "            if not os.path.exists('./plots/'):\n",
        "                os.makedirs('./plots/')            \n",
        "\n",
        "            plt.close()\n",
        "            plt.figure(figsize=(12,9))\n",
        "\n",
        "            plt.plot(test_counter[cutoff:], curr_test, marker='x', linewidth=4, label=r\"full network $f(\\cdot; \\mathrm{W}_t)$\")\n",
        "            plt.fill_between(test_counter[cutoff:], curr_test-curr_test_std, curr_test+curr_test_std, color='gray', alpha=0.2)\n",
        "\n",
        "            plt.plot(test_counter[cutoff:], curr_sparse, marker='x', linewidth=4, linestyle='dashed', label=r\"sub-network $g(\\mathrm{W}_t; \\cdot, \\mathrm{B}_t)$\")\n",
        "            plt.fill_between(test_counter[cutoff:], curr_sparse-curr_sparse_std, curr_sparse+curr_sparse_std, color='gray', alpha=0.2)\n",
        "\n",
        "            ax = plt.gca()\n",
        "            ax.tick_params(axis = 'both', which = 'major', labelsize = 22)\n",
        "            # plt.xticks(np.arange(d[0])+1) \n",
        "            plt.xlim((test_counter[cutoff],test_counter[-1]))\n",
        "            plt.ylim((-.5,100.5))\n",
        "            if (p==0.5 and w==100) or (p==0.1 and w==250000):\n",
        "                plt.ylabel('Test Accuracy', fontsize=22)\n",
        "            else:\n",
        "                plt.ylabel(' ', fontsize=22)\n",
        "            if (p==0.1 and w==250000):\n",
        "                plt.legend(prop={'size': 26})\n",
        "            plt.xlabel('Iterate', fontsize=22)\n",
        "            plt.title(r'width = %d, $p = %.1f$'%(w, p), fontsize=24)\n",
        "            # plt.yscale('log')\n",
        "            plt.xscale('log')\n",
        "            plt.grid()\n",
        "            plt.savefig(plot_name, bbox_inches='tight')\n",
        "            plt.show()"
      ],
      "execution_count": null,
      "outputs": [
        {
          "output_type": "display_data",
          "data": {
            "image/png": "[encoded data removed]",
            "text/plain": [
              "<Figure size 864x648 with 1 Axes>"
            ]
          },
          "metadata": {
            "tags": [],
            "needs_background": "light"
          }
        }
      ]
    },
    {
      "cell_type": "code",
      "metadata": {
        "id": "-r912SoLKPHS"
      },
      "source": [
        ""
      ],
      "execution_count": null,
      "outputs": []
    }
  ]
}